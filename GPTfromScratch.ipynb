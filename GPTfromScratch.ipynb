{
  "nbformat": 4,
  "nbformat_minor": 0,
  "metadata": {
    "colab": {
      "provenance": [],
      "gpuType": "T4"
    },
    "kernelspec": {
      "name": "python3",
      "display_name": "Python 3"
    },
    "language_info": {
      "name": "python"
    },
    "accelerator": "GPU"
  },
  "cells": [
    {
      "cell_type": "code",
      "execution_count": null,
      "metadata": {
        "id": "SYz8lScX_wq0"
      },
      "outputs": [],
      "source": [
        "import torch\n",
        "import torch.nn as nn\n",
        "from torch.nn import functional as F"
      ]
    },
    {
      "cell_type": "code",
      "source": [
        "batch_size = 64\n",
        "block_size = 256\n",
        "device = 'cuda' if torch.cuda.is_available() else 'cpu'\n",
        "n_embd = 384\n",
        "n_heads = 6\n",
        "n_layers = 6\n",
        "dropout = 0.2"
      ],
      "metadata": {
        "id": "i8SeD5LC_44O"
      },
      "execution_count": null,
      "outputs": []
    },
    {
      "cell_type": "markdown",
      "source": [
        "## Getting the data"
      ],
      "metadata": {
        "id": "B2z0P9N8Jdnr"
      }
    },
    {
      "cell_type": "code",
      "source": [
        "# We always start with a dataset to train on. Let's download the tiny shakespeare dataset\n",
        "!wget https://raw.githubusercontent.com/karpathy/char-rnn/master/data/tinyshakespeare/input.txt"
      ],
      "metadata": {
        "colab": {
          "base_uri": "https://localhost:8080/"
        },
        "id": "X0aYPTZGQZ6p",
        "outputId": "fe40c90b-b12c-44c6-f1d0-c78c0cebbbaf"
      },
      "execution_count": null,
      "outputs": [
        {
          "output_type": "stream",
          "name": "stdout",
          "text": [
            "--2024-11-25 04:59:51--  https://raw.githubusercontent.com/karpathy/char-rnn/master/data/tinyshakespeare/input.txt\n",
            "Resolving raw.githubusercontent.com (raw.githubusercontent.com)... 185.199.111.133, 185.199.110.133, 185.199.108.133, ...\n",
            "Connecting to raw.githubusercontent.com (raw.githubusercontent.com)|185.199.111.133|:443... connected.\n",
            "HTTP request sent, awaiting response... 200 OK\n",
            "Length: 1115394 (1.1M) [text/plain]\n",
            "Saving to: ‘input.txt’\n",
            "\n",
            "\rinput.txt             0%[                    ]       0  --.-KB/s               \rinput.txt           100%[===================>]   1.06M  --.-KB/s    in 0.05s   \n",
            "\n",
            "2024-11-25 04:59:51 (22.1 MB/s) - ‘input.txt’ saved [1115394/1115394]\n",
            "\n"
          ]
        }
      ]
    },
    {
      "cell_type": "markdown",
      "source": [
        "## Defining Vocabulary"
      ],
      "metadata": {
        "id": "zTr61kKYDQ1o"
      }
    },
    {
      "cell_type": "code",
      "source": [
        "with open('input.txt','r',encoding='utf-8') as f:\n",
        "    text=f.read()\n",
        "\n",
        "chars=sorted(list(set(text)))\n",
        "vocab_size=len(chars)\n",
        "ctoi={ch:i for i,ch in enumerate(chars)}\n",
        "itoc={i:ch for i,ch in enumerate(chars)}\n",
        "encode=lambda s: [ctoi[c] for c in s]\n",
        "decode=lambda l: ''.join([itoc[i] for i in l])"
      ],
      "metadata": {
        "id": "TPfrV3X2_404"
      },
      "execution_count": null,
      "outputs": []
    },
    {
      "cell_type": "code",
      "source": [
        "data=torch.tensor(encode(text),dtype=torch.long)\n",
        "n=int(0.9*len(data))\n",
        "train_data=data[:n]\n",
        "val_data=data[n:]"
      ],
      "metadata": {
        "id": "x8TjjWCj_4yc"
      },
      "execution_count": null,
      "outputs": []
    },
    {
      "cell_type": "code",
      "source": [
        "def get_batch(split):\n",
        "    data = train_data if split == 'train' else val_data\n",
        "    ix=torch.randint(len(data)-block_size,(batch_size,))\n",
        "    x=torch.stack([data[i:i+block_size] for i in ix])\n",
        "    y=torch.stack([data[i+1:i+block_size+1] for i in ix])\n",
        "    x,y=x.to(device),y.to(device)\n",
        "    return x,y\n",
        "\n"
      ],
      "metadata": {
        "id": "hjZ8G4zL_4wD"
      },
      "execution_count": null,
      "outputs": []
    },
    {
      "cell_type": "markdown",
      "source": [
        "## Define model architechture"
      ],
      "metadata": {
        "id": "R5yN5gC-JhE5"
      }
    },
    {
      "cell_type": "code",
      "source": [
        "class Head(nn.Module):\n",
        "    def __init__(self,head_size):\n",
        "        super(Head,self).__init__()\n",
        "        self.key=nn.Linear(n_embd,head_size,bias=False)\n",
        "        self.query=nn.Linear(n_embd,head_size,bias=False)\n",
        "        self.value=nn.Linear(n_embd,head_size,bias=False)\n",
        "        self.register_buffer('tril',torch.tril(torch.ones(block_size,block_size)))\n",
        "        self.dropout = nn.Dropout(dropout)\n",
        "    def forward(self,x):\n",
        "        B,T,C=x.shape\n",
        "        k=self.key(x)\n",
        "        q=self.query(x)\n",
        "        wei=q@k.transpose(-2,-1)*k.shape[-1]**-0.5\n",
        "        wei=wei.masked_fill(self.tril[:T,:T]==0,float('-inf'))\n",
        "        wei=F.softmax(wei,dim=-1)\n",
        "        wei=self.dropout(wei)\n",
        "        v=self.value(x)\n",
        "        out=wei@v\n",
        "        return out"
      ],
      "metadata": {
        "id": "Y0wwUpBh_4tn"
      },
      "execution_count": null,
      "outputs": []
    },
    {
      "cell_type": "code",
      "source": [
        "class MultiHead(nn.Module):\n",
        "    def __init__(self,n_heads,head_size):\n",
        "        super(MultiHead,self).__init__()\n",
        "        self.heads=nn.ModuleList(Head(head_size) for _ in range(n_heads))\n",
        "        self.proj=nn.Linear(n_heads*head_size,n_embd)\n",
        "        self.dropout = nn.Dropout(dropout)\n",
        "    def forward(self,x):\n",
        "        out=torch.cat([h(x) for h in self.heads],dim=-1)\n",
        "        out=self.dropout(self.proj(out))\n",
        "        return out"
      ],
      "metadata": {
        "id": "lRL4Fw1m_4rX"
      },
      "execution_count": null,
      "outputs": []
    },
    {
      "cell_type": "code",
      "source": [
        "class MLP(nn.Module):\n",
        "    def __init__(self,n_embd):\n",
        "        super(MLP,self).__init__()\n",
        "        self.network=nn.Sequential(\n",
        "            nn.Linear(n_embd,4*n_embd),\n",
        "            nn.ReLU(),\n",
        "            nn.Linear(4*n_embd,n_embd),\n",
        "            nn.Dropout(dropout)\n",
        "        )\n",
        "    def forward(self,x):\n",
        "        return self.network(x)"
      ],
      "metadata": {
        "id": "FLNXHsSk_4o6"
      },
      "execution_count": null,
      "outputs": []
    },
    {
      "cell_type": "code",
      "source": [
        "class TransformerBlock(nn.Module):\n",
        "    def __init__(self,n_embd,n_heads):\n",
        "        super(TransformerBlock,self).__init__()\n",
        "        head_size=n_embd//n_heads\n",
        "        self.attn=MultiHead(n_heads,head_size)\n",
        "        self.mlp=MLP(n_embd)\n",
        "        self.l1=nn.LayerNorm(n_embd)\n",
        "        self.l2=nn.LayerNorm(n_embd)\n",
        "    def forward(self,x):\n",
        "        out=x+self.attn(self.l1(x))\n",
        "        out=out + self.mlp(self.l2(out))\n",
        "        return out"
      ],
      "metadata": {
        "id": "njsQ_L8o_4mV"
      },
      "execution_count": null,
      "outputs": []
    },
    {
      "cell_type": "code",
      "source": [
        "class GPTModel(nn.Module):\n",
        "    def __init__(self):\n",
        "        super(GPTModel,self).__init__()\n",
        "        self.embedding_table=nn.Embedding(vocab_size,n_embd)\n",
        "        self.pos_embedding_table=nn.Embedding(block_size,n_embd)\n",
        "        self.blocks=nn.Sequential(*[TransformerBlock(n_embd,n_heads) for _ in range(n_layers)])\n",
        "        self.lf=nn.LayerNorm(n_embd)\n",
        "        self.lm=nn.Linear(n_embd,vocab_size)\n",
        "\n",
        "        self.apply(self.init_weights)\n",
        "\n",
        "    def init_weights(self,module):\n",
        "        if isinstance (module,nn.Linear):\n",
        "            torch.nn.init.normal_(module.weight,mean=0.0,std=0.02)\n",
        "            if module.bias is not None:\n",
        "                torch.nn.init.zeros_(module.bias)\n",
        "        elif isinstance (module,nn.Embedding):\n",
        "            torch.nn.init.normal_(module.weight,mean=0.0,std=0.02)\n",
        "\n",
        "    def forward(self,idx,targets=None):\n",
        "        B,T=idx.shape\n",
        "        tok_emb=self.embedding_table(idx)\n",
        "        pos_emb=self.pos_embedding_table(torch.arange(T,device=device))\n",
        "        x=tok_emb+pos_emb\n",
        "        x=self.blocks(x)\n",
        "        x=self.lf(x)\n",
        "        logits=self.lm(x)\n",
        "        if targets==None:\n",
        "            loss=None\n",
        "        else:\n",
        "            B,T,C=logits.shape\n",
        "            logits=logits.view(B*T,C)\n",
        "            targets=targets.view(B*T)\n",
        "            loss=F.cross_entropy(logits,targets)\n",
        "        return logits,loss\n",
        "\n",
        "    def generate(self,idx,max_tokens):\n",
        "        for _ in range(max_tokens):\n",
        "            idx_cond=idx[:,-block_size:]\n",
        "            logits,loss=self(idx_cond)\n",
        "            logits=logits[:,-1,:]\n",
        "            probs=F.softmax(logits,dim=-1)\n",
        "            idx_next=torch.multinomial(probs,num_samples=1)\n",
        "            idx=torch.cat((idx,idx_next),dim=1)\n",
        "        return idx\n"
      ],
      "metadata": {
        "id": "DT5hFbTE_4jz"
      },
      "execution_count": null,
      "outputs": []
    },
    {
      "cell_type": "markdown",
      "source": [
        "## Define the train and eval functions"
      ],
      "metadata": {
        "id": "YPpyHvrcJlH2"
      }
    },
    {
      "cell_type": "code",
      "source": [
        "@torch.no_grad()\n",
        "def evaluate(eval_iters,model,val_data):\n",
        "    model.eval()\n",
        "    result={}\n",
        "    iter_loss=[]\n",
        "    for _ in range(eval_iters):\n",
        "        x,y=get_batch(val_data)\n",
        "        logits,loss=model(x,y)\n",
        "        iter_loss.append(loss)\n",
        "    avg_loss=torch.stack(iter_loss).mean()\n",
        "    result['val_loss']=avg_loss\n",
        "    model.train()\n",
        "    return result\n",
        "\n",
        "def train(max_iter,eval_iters,model,lr,train_data,val_data,optim_func):\n",
        "    history=[]\n",
        "    optimizer = optim_func(model.parameters(), lr=lr)\n",
        "    train_losses=[]\n",
        "    for iters in range(max_iter):\n",
        "        x,y=get_batch(train_data)\n",
        "        logits,loss=model(x,y)\n",
        "        train_losses.append(loss)\n",
        "        optimizer.zero_grad()\n",
        "        loss.backward()\n",
        "        optimizer.step()\n",
        "        if iters%500==0:\n",
        "            result=evaluate(eval_iters,model,val_data)\n",
        "            result['train_loss']=torch.stack(train_losses).mean()\n",
        "            print(f'train_loss:{result[\"train_loss\"]},val_loss:{result[\"val_loss\"]}')\n",
        "            train_losses=[]\n",
        "            history.append(result)\n",
        "    return history"
      ],
      "metadata": {
        "id": "dHtPUK6f_4hL"
      },
      "execution_count": null,
      "outputs": []
    },
    {
      "cell_type": "code",
      "source": [
        "model=GPTModel()\n",
        "model=model.to(device)"
      ],
      "metadata": {
        "id": "8PxlNxCK_4ME"
      },
      "execution_count": null,
      "outputs": []
    },
    {
      "cell_type": "code",
      "source": [
        "optim_func=torch.optim.AdamW\n",
        "lr = 1e-4\n",
        "max_iters=10000\n",
        "eval_iters=200"
      ],
      "metadata": {
        "id": "BV6NepIAAQWD"
      },
      "execution_count": null,
      "outputs": []
    },
    {
      "cell_type": "markdown",
      "source": [
        "## Train the model"
      ],
      "metadata": {
        "id": "cUz9yxZiJowt"
      }
    },
    {
      "cell_type": "code",
      "source": [
        "history=train(max_iters,eval_iters,model,lr,train_data,val_data,optim_func)"
      ],
      "metadata": {
        "colab": {
          "base_uri": "https://localhost:8080/"
        },
        "id": "96oO7KrqAQSf",
        "outputId": "68a6b59c-c571-434a-c39d-ed7434737008"
      },
      "execution_count": null,
      "outputs": [
        {
          "output_type": "stream",
          "name": "stdout",
          "text": [
            "train_loss:4.281167984008789,val_loss:3.675260543823242\n",
            "train_loss:2.4042160511016846,val_loss:2.106052875518799\n",
            "train_loss:1.881987452507019,val_loss:1.4840264320373535\n",
            "train_loss:1.4526076316833496,val_loss:1.0489177703857422\n",
            "train_loss:1.1085741519927979,val_loss:0.572697103023529\n",
            "train_loss:0.766722559928894,val_loss:0.2480648308992386\n",
            "train_loss:0.5081079006195068,val_loss:0.1327822357416153\n",
            "train_loss:0.3606354892253876,val_loss:0.10057030618190765\n",
            "train_loss:0.28069138526916504,val_loss:0.0888681560754776\n",
            "train_loss:0.23414693772792816,val_loss:0.08103197813034058\n",
            "train_loss:0.20386041700839996,val_loss:0.07563679665327072\n",
            "train_loss:0.1816793978214264,val_loss:0.07181049883365631\n",
            "train_loss:0.16611109673976898,val_loss:0.06966103613376617\n",
            "train_loss:0.153518944978714,val_loss:0.06632494181394577\n",
            "train_loss:0.14430157840251923,val_loss:0.06433387845754623\n",
            "train_loss:0.1356486976146698,val_loss:0.06220502778887749\n",
            "train_loss:0.1289178729057312,val_loss:0.061020396649837494\n",
            "train_loss:0.12230536341667175,val_loss:0.05940705165266991\n",
            "train_loss:0.11718752235174179,val_loss:0.05864846706390381\n",
            "train_loss:0.11298149824142456,val_loss:0.0571008063852787\n"
          ]
        }
      ]
    },
    {
      "cell_type": "code",
      "source": [
        "text=\"What's in a name?\"\n",
        "context=torch.tensor(encode(text),dtype=torch.long,device=device).unsqueeze(0)\n",
        "print(context)"
      ],
      "metadata": {
        "id": "tp9oL45LUlRI",
        "colab": {
          "base_uri": "https://localhost:8080/"
        },
        "outputId": "d37bcbd8-c1ea-48e9-a142-caf9f6608f76"
      },
      "execution_count": null,
      "outputs": [
        {
          "output_type": "stream",
          "name": "stdout",
          "text": [
            "tensor([[35, 46, 39, 58,  5, 57,  1, 47, 52,  1, 39,  1, 52, 39, 51, 43, 12]],\n",
            "       device='cuda:0')\n"
          ]
        }
      ]
    },
    {
      "cell_type": "markdown",
      "source": [
        "## Inference"
      ],
      "metadata": {
        "id": "Bl-F7SjcJtyq"
      }
    },
    {
      "cell_type": "code",
      "source": [
        "print(decode(model.generate(context,max_tokens=1000)[0].tolist()))"
      ],
      "metadata": {
        "id": "_rUovXlPAQPq",
        "colab": {
          "base_uri": "https://localhost:8080/"
        },
        "outputId": "8b0268ab-e36d-4ce3-f428-b07f19f1b6b1"
      },
      "execution_count": null,
      "outputs": [
        {
          "output_type": "stream",
          "name": "stdout",
          "text": [
            "What's in a name?\n",
            "\n",
            "LUCENTIO:\n",
            "O, Biondello, bid your mistress come to me.\n",
            "\n",
            "BIONDELLO:\n",
            "I go.\n",
            "\n",
            "BAPTISTA:\n",
            "Sir, what I halm not Lucentio.\n",
            "\n",
            "BIONDELLO:\n",
            "When I am an will he meant with you, sir?\n",
            "\n",
            "BIONDELLO:\n",
            "Whatere is say well with her and she come bnot her.\n",
            "\n",
            "BAPTISTA:\n",
            "And, then thou hast not say with her comes?\n",
            "\n",
            "BIONDELLO:\n",
            "Why, not, Petruchio is coming in a new hat and here in heare\n",
            "looks for prayers; and there, thou shouldst knowing\n",
            "Out of whence and crawling\n",
            "I am at hund were 'tis name on how\n",
            "To ne halft the fingeren bet least.\n",
            "\n",
            "VINCENTIO:\n",
            "And what of him, Say irst should find.\n",
            "\n",
            "GONZALO:\n",
            "Who is good Lord, be not to hores with a brought she\n",
            "be cut and such ass your\n",
            "Doth an old to him her lush.\n",
            "\n",
            "MIRANDA:\n",
            "Why, as my and here looks and to tale in Marself\n",
            "That the winds of coulding the parkets\n",
            "With hin feard with sair: then I have follow'd to name forthwith,\n",
            "To dress my shall and and gossed ther than tere than the hee,\n",
            "But his frome; though she hard never I feauty,\n",
            "Whose enter from know her beauty had,\n",
            "And as he\n"
          ]
        }
      ]
    },
    {
      "cell_type": "code",
      "source": [
        "print(sum(p.numel() for p in model.parameters())/1e6, 'M parameters')"
      ],
      "metadata": {
        "id": "ka_3nPD5_35R",
        "colab": {
          "base_uri": "https://localhost:8080/"
        },
        "outputId": "84912778-bdc6-49df-d1cc-b5ea0d4b227a"
      },
      "execution_count": null,
      "outputs": [
        {
          "output_type": "stream",
          "name": "stdout",
          "text": [
            "10.788929 M parameters\n"
          ]
        }
      ]
    },
    {
      "cell_type": "code",
      "source": [
        "import matplotlib.pyplot as plt\n",
        "\n",
        "# Extracting values\n",
        "train_loss = [history[i]['train_loss'].item() for i in range(len(history))]\n",
        "val_loss = [history[i]['val_loss'].item() for i in range(len(history))]\n",
        "\n",
        "iterations = range(0, 500*len(train_loss),500)\n",
        "\n",
        "# Plotting the learning curves\n",
        "plt.figure(figsize=(8, 6))\n",
        "plt.plot(iterations, train_loss, label='Training Loss')\n",
        "plt.plot(iterations, val_loss, label='Validation Loss')\n",
        "\n",
        "# Adding labels and title\n",
        "plt.xlabel('Iterations')\n",
        "plt.ylabel('Loss')\n",
        "plt.title('Training and Validation Loss Over Iterations')\n",
        "plt.legend()\n",
        "\n",
        "# Display the plot\n",
        "plt.show()\n"
      ],
      "metadata": {
        "id": "za7EjBDcWDSg",
        "colab": {
          "base_uri": "https://localhost:8080/",
          "height": 564
        },
        "outputId": "b03b6bda-77f4-4912-9f46-9c07f5e8e778"
      },
      "execution_count": null,
      "outputs": [
        {
          "output_type": "display_data",
          "data": {
            "text/plain": [
              "<Figure size 800x600 with 1 Axes>"
            ],
            "image/png": "[encoded data removed]"
          },
          "metadata": {}
        }
      ]
    },
    {
      "cell_type": "code",
      "source": [
        "torch.save(model.state_dict(), 'GPTmodel_weights.pth')"
      ],
      "metadata": {
        "id": "NthYbM6LysSs"
      },
      "execution_count": null,
      "outputs": []
    },
    {
      "cell_type": "code",
      "source": [],
      "metadata": {
        "id": "VTV6ZysTTBZy"
      },
      "execution_count": null,
      "outputs": []
    }
  ]
}